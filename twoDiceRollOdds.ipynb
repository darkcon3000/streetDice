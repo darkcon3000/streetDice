{
 "cells": [
  {
   "cell_type": "code",
   "execution_count": 3,
   "metadata": {},
   "outputs": [],
   "source": [
    "roll = (1/6)*(1/6) #the odds of any given 2 dice roll"
   ]
  },
  {
   "cell_type": "code",
   "execution_count": 35,
   "metadata": {},
   "outputs": [],
   "source": [
    "two = roll #1+1\n",
    "three = roll #1+2\n",
    "four = roll+roll #1+3 2+2\n",
    "five = roll+roll #1+4 2+3\n",
    "six = roll+roll+roll #1+5 2+4 3+3\n",
    "seven = roll+roll+roll #1+6 2+5 3+4\n",
    "eight = roll+roll+roll #2+6 3+5 4+4\n",
    "nine = roll+roll #3+6 4+5\n",
    "ten = roll+roll #5+5 4+6\n",
    "eleven = roll #5+6\n",
    "twelve = roll #6+6"
   ]
  },
  {
   "cell_type": "code",
   "execution_count": 36,
   "metadata": {},
   "outputs": [
    {
     "name": "stdout",
     "output_type": "stream",
     "text": [
      "Instant Win Odds: 11.11% [7,11]\n",
      "Instant Loss Odds: 8.33% [2,3,12]\n",
      "\n",
      "Point Value Odds:\n",
      "2: 2.78%\n",
      "3: 2.78%\n",
      "4: 5.56%\n",
      "5: 5.56%\n",
      "6: 8.33%\n",
      "7: 8.33% [Loss]\n",
      "8: 8.33%\n",
      "9: 5.56%\n",
      "10: 5.56%\n",
      "11: 2.78%\n",
      "12: 2.78%\n"
     ]
    }
   ],
   "source": [
    "instantWin = seven+eleven\n",
    "instantLoss = two+three+twelve\n",
    "print('Instant Win Odds:'+\" {:.2%} [7,11]\".format(instantWin))\n",
    "print('Instant Loss Odds:'+\" {:.2%} [2,3,12]\".format(instantLoss))\n",
    "print()\n",
    "print('Point Value Odds:')\n",
    "myOdds = [two,three,four,five,six,seven,eight,nine,ten,eleven,twelve]\n",
    "for i in range(0,len(myOdds)):\n",
    "    x = myOdds[i]\n",
    "    if i+2 == 7:\n",
    "        print(str(i+2)+':'+\" {:.2%} [Loss]\".format(x))\n",
    "    else:\n",
    "        print(str(i+2)+':'+\" {:.2%}\".format(x))"
   ]
  },
  {
   "cell_type": "code",
   "execution_count": 37,
   "metadata": {},
   "outputs": [
    {
     "data": {
      "text/plain": [
       "0.8888888888888888"
      ]
     },
     "execution_count": 37,
     "metadata": {},
     "output_type": "execute_result"
    }
   ],
   "source": [
    "1-instantWin"
   ]
  },
  {
   "cell_type": "code",
   "execution_count": 38,
   "metadata": {},
   "outputs": [
    {
     "data": {
      "text/plain": [
       "0.9166666666666666"
      ]
     },
     "execution_count": 38,
     "metadata": {},
     "output_type": "execute_result"
    }
   ],
   "source": [
    "1-instantLoss"
   ]
  },
  {
   "cell_type": "code",
   "execution_count": null,
   "metadata": {},
   "outputs": [],
   "source": []
  }
 ],
 "metadata": {
  "kernelspec": {
   "display_name": "Python 3",
   "language": "python",
   "name": "python3"
  },
  "language_info": {
   "codemirror_mode": {
    "name": "ipython",
    "version": 3
   },
   "file_extension": ".py",
   "mimetype": "text/x-python",
   "name": "python",
   "nbconvert_exporter": "python",
   "pygments_lexer": "ipython3",
   "version": "3.7.1"
  }
 },
 "nbformat": 4,
 "nbformat_minor": 2
}
